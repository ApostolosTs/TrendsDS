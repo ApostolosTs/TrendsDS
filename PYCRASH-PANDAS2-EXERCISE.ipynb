{
 "cells": [
  {
   "cell_type": "markdown",
   "metadata": {},
   "source": [
    "Student-DB Extension: Extend your university database data frame from the previous exercise\n",
    "\n",
    "Start with the data frame from the last exercise\n",
    "\n",
    "Add columns holding the age and grade average of your students to the data frame"
   ]
  },
  {
   "cell_type": "code",
   "execution_count": 6,
   "metadata": {},
   "outputs": [
    {
     "name": "stdout",
     "output_type": "stream",
     "text": [
      "     ID   Name Studiengang  Smester\n",
      "ID1   1    Apo          Wi        3\n",
      "ID2   2   Diri         OMM        2\n",
      "ID3   3  Erhan          bi        3\n",
      "<class 'pandas.core.frame.DataFrame'>\n"
     ]
    },
    {
     "data": {
      "text/html": [
       "<div>\n",
       "<style scoped>\n",
       "    .dataframe tbody tr th:only-of-type {\n",
       "        vertical-align: middle;\n",
       "    }\n",
       "\n",
       "    .dataframe tbody tr th {\n",
       "        vertical-align: top;\n",
       "    }\n",
       "\n",
       "    .dataframe thead th {\n",
       "        text-align: right;\n",
       "    }\n",
       "</style>\n",
       "<table border=\"1\" class=\"dataframe\">\n",
       "  <thead>\n",
       "    <tr style=\"text-align: right;\">\n",
       "      <th></th>\n",
       "      <th>ID</th>\n",
       "      <th>Name</th>\n",
       "      <th>Studiengang</th>\n",
       "      <th>Smester</th>\n",
       "      <th>Age</th>\n",
       "      <th>Note</th>\n",
       "    </tr>\n",
       "  </thead>\n",
       "  <tbody>\n",
       "    <tr>\n",
       "      <th>ID1</th>\n",
       "      <td>1</td>\n",
       "      <td>Apo</td>\n",
       "      <td>Wi</td>\n",
       "      <td>3</td>\n",
       "      <td>23</td>\n",
       "      <td>1.9</td>\n",
       "    </tr>\n",
       "    <tr>\n",
       "      <th>ID2</th>\n",
       "      <td>2</td>\n",
       "      <td>Diri</td>\n",
       "      <td>OMM</td>\n",
       "      <td>2</td>\n",
       "      <td>23</td>\n",
       "      <td>1.0</td>\n",
       "    </tr>\n",
       "    <tr>\n",
       "      <th>ID3</th>\n",
       "      <td>3</td>\n",
       "      <td>Erhan</td>\n",
       "      <td>bi</td>\n",
       "      <td>3</td>\n",
       "      <td>22</td>\n",
       "      <td>2.0</td>\n",
       "    </tr>\n",
       "  </tbody>\n",
       "</table>\n",
       "</div>"
      ],
      "text/plain": [
       "     ID   Name Studiengang  Smester  Age  Note\n",
       "ID1   1    Apo          Wi        3   23   1.9\n",
       "ID2   2   Diri         OMM        2   23   1.0\n",
       "ID3   3  Erhan          bi        3   22   2.0"
      ]
     },
     "execution_count": 6,
     "metadata": {},
     "output_type": "execute_result"
    }
   ],
   "source": [
    "#PANDAS Data Frames\n",
    "import pandas as pd\n",
    "\n",
    "\n",
    "\n",
    "\n",
    "list_2dim = [[1,\"Apo\",\"Wi\",3],[2,\"Diri\",\"OMM\",2],[3,\"Erhan\",\"bi\",3]]\n",
    "\n",
    "df = pd.DataFrame(list_2dim,index=['ID1','ID2','ID3'],columns=['ID','Name','Studiengang','Smester'])\n",
    "\n",
    "print(df)\n",
    "print(type(df))\n",
    "\n",
    "\n",
    "df['Age']= [23, 23, 22]\n",
    "df['Note'] = [1.9,1,2]\n",
    "df"
   ]
  },
  {
   "cell_type": "markdown",
   "metadata": {},
   "source": [
    "Change one of the column names and print - only the column names - afterwards to check"
   ]
  },
  {
   "cell_type": "code",
   "execution_count": 23,
   "metadata": {},
   "outputs": [
    {
     "data": {
      "text/html": [
       "<div>\n",
       "<style scoped>\n",
       "    .dataframe tbody tr th:only-of-type {\n",
       "        vertical-align: middle;\n",
       "    }\n",
       "\n",
       "    .dataframe tbody tr th {\n",
       "        vertical-align: top;\n",
       "    }\n",
       "\n",
       "    .dataframe thead th {\n",
       "        text-align: right;\n",
       "    }\n",
       "</style>\n",
       "<table border=\"1\" class=\"dataframe\">\n",
       "  <thead>\n",
       "    <tr style=\"text-align: right;\">\n",
       "      <th></th>\n",
       "      <th>ID</th>\n",
       "      <th>Name</th>\n",
       "      <th>Studiengang</th>\n",
       "      <th>Smester</th>\n",
       "      <th>B5</th>\n",
       "      <th>B6</th>\n",
       "    </tr>\n",
       "  </thead>\n",
       "  <tbody>\n",
       "    <tr>\n",
       "      <th>ID1</th>\n",
       "      <td>1</td>\n",
       "      <td>Apo</td>\n",
       "      <td>Wi</td>\n",
       "      <td>3</td>\n",
       "      <td>23</td>\n",
       "      <td>1.9</td>\n",
       "    </tr>\n",
       "    <tr>\n",
       "      <th>ID2</th>\n",
       "      <td>2</td>\n",
       "      <td>Diri</td>\n",
       "      <td>OMM</td>\n",
       "      <td>2</td>\n",
       "      <td>23</td>\n",
       "      <td>1.0</td>\n",
       "    </tr>\n",
       "    <tr>\n",
       "      <th>ID3</th>\n",
       "      <td>3</td>\n",
       "      <td>Erhan</td>\n",
       "      <td>bi</td>\n",
       "      <td>3</td>\n",
       "      <td>22</td>\n",
       "      <td>2.0</td>\n",
       "    </tr>\n",
       "  </tbody>\n",
       "</table>\n",
       "</div>"
      ],
      "text/plain": [
       "     ID   Name Studiengang  Smester  B5   B6\n",
       "ID1   1    Apo          Wi        3  23  1.9\n",
       "ID2   2   Diri         OMM        2  23  1.0\n",
       "ID3   3  Erhan          bi        3  22  2.0"
      ]
     },
     "execution_count": 23,
     "metadata": {},
     "output_type": "execute_result"
    }
   ],
   "source": [
    "df.columns= ['ID','Name','Studiengang','Smester', 'B5','B6']\n",
    "df"
   ]
  },
  {
   "cell_type": "markdown",
   "metadata": {},
   "source": [
    "Create an additional, incomplete data set with a first semester student that has no grade average yet (NULL values can be created with the numpy value \"nan\") \n",
    "\n",
    "Transform the new data set to a data frame\n",
    "\n",
    "Append the new frame set to the existing one (use \"append\" method).\n",
    "\n",
    "Print the extended data frame and show its descriptive statistics\n",
    "\n",
    "Finally, drop NaN/missing values from you data frame and print to check the result"
   ]
  },
  {
   "cell_type": "code",
   "execution_count": 49,
   "metadata": {},
   "outputs": [
    {
     "name": "stdout",
     "output_type": "stream",
     "text": [
      "     ID   Name Studiengang  Smester  B5   B6\n",
      "ID1   1    Apo          Wi        3  23  1.9\n",
      "ID2   2   Diri         OMM        2  23  1.0\n",
      "ID3   3  Erhan          bi        3  22  2.0\n"
     ]
    }
   ],
   "source": [
    "import numpy as np\n",
    "firstS = [[4, \"Luca\", \"Wi\", 1, 21, np.nan ]]\n",
    "\n",
    "df_new = pd.DataFrame(firstS,index=['ID4'],columns=['ID','Name','Studiengang','Smester', 'B5','B6'])\n",
    "\n",
    "df.append(df_new)\n",
    "df.describe()\n",
    "\n",
    "df= df.dropna()\n",
    "print(df)\n",
    "\n"
   ]
  },
  {
   "cell_type": "code",
   "execution_count": null,
   "metadata": {},
   "outputs": [],
   "source": []
  }
 ],
 "metadata": {
  "kernelspec": {
   "display_name": "Python 3",
   "language": "python",
   "name": "python3"
  },
  "language_info": {
   "codemirror_mode": {
    "name": "ipython",
    "version": 3
   },
   "file_extension": ".py",
   "mimetype": "text/x-python",
   "name": "python",
   "nbconvert_exporter": "python",
   "pygments_lexer": "ipython3",
   "version": "3.8.3"
  }
 },
 "nbformat": 4,
 "nbformat_minor": 2
}
