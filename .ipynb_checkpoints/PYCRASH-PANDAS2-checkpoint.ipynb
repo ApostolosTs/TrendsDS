{
 "cells": [
  {
   "cell_type": "code",
   "execution_count": null,
   "metadata": {},
   "outputs": [],
   "source": [
    "#PANDAS Data Frames\n",
    "import pandas as pd\n",
    "\n",
    "#to generate random numbers\n",
    "from numpy.random import randn"
   ]
  },
  {
   "cell_type": "code",
   "execution_count": null,
   "metadata": {},
   "outputs": [],
   "source": [
    "#create data frame size 5*5 containing random numbers\n",
    "df = pd.DataFrame(randn(5,5),index=['ID1','ID2','ID3','ID4','ID5'],columns=['A1','A2','A3','A4','A5'])\n",
    "df"
   ]
  },
  {
   "cell_type": "code",
   "execution_count": null,
   "metadata": {},
   "outputs": [],
   "source": [
    "#print columns and index\n",
    "print(str(df.columns))\n",
    "print(str(df.index))"
   ]
  },
  {
   "cell_type": "code",
   "execution_count": null,
   "metadata": {},
   "outputs": [],
   "source": [
    "#change columns\n",
    "df.columns=['B1', 'B2', 'B3', 'B4', 'B5']\n",
    "df"
   ]
  },
  {
   "cell_type": "code",
   "execution_count": null,
   "metadata": {},
   "outputs": [],
   "source": [
    "#change index\n",
    "df.index=['First-ID', 'ID2', 'ID3', 'ID4', 'ID5']\n",
    "df"
   ]
  },
  {
   "cell_type": "code",
   "execution_count": null,
   "metadata": {},
   "outputs": [],
   "source": [
    "#descriptive statistics\n",
    "df.describe()"
   ]
  },
  {
   "cell_type": "code",
   "execution_count": null,
   "metadata": {},
   "outputs": [],
   "source": [
    "#Select values > 0\n",
    "df_gt0=df[df>-1]\n",
    "df_gt0\n",
    "#NaN=Not a Number"
   ]
  },
  {
   "cell_type": "code",
   "execution_count": null,
   "metadata": {},
   "outputs": [],
   "source": [
    "#Drop NaN/missing values\n",
    "df_gt0.dropna()"
   ]
  },
  {
   "cell_type": "code",
   "execution_count": null,
   "metadata": {},
   "outputs": [],
   "source": [
    "#Clip values to an interval\n",
    "df_clip=df.clip(0,1)\n",
    "df_clip"
   ]
  }
 ],
 "metadata": {
  "kernelspec": {
   "display_name": "Python 3",
   "language": "python",
   "name": "python3"
  },
  "language_info": {
   "codemirror_mode": {
    "name": "ipython",
    "version": 3
   },
   "file_extension": ".py",
   "mimetype": "text/x-python",
   "name": "python",
   "nbconvert_exporter": "python",
   "pygments_lexer": "ipython3",
   "version": "3.6.4"
  }
 },
 "nbformat": 4,
 "nbformat_minor": 2
}
