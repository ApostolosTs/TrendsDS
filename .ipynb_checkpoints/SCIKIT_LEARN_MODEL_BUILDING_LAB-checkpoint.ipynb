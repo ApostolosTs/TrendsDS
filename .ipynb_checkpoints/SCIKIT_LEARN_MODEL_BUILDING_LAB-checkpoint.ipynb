{
 "cells": [
  {
   "cell_type": "markdown",
   "metadata": {},
   "source": [
    "# Classification\n",
    "Create your own majority voting based on the WINE dataset! Implement the following steps:\n",
    "\n",
    "- load the wine dataset (you can load it similarly to the iris dataset)\n",
    "- print the first example of the dataset (features and class)\n",
    "- print the shape of your dataset (features and class) using shape method\n",
    "- initialize a list for your prediction values y_pred\n",
    "- initialize and fit a knn, svm and decision tree classifier using the first 150 examples\n",
    "- append y_pred with prediction values of each classifier for x_test\n",
    "- loop and print y_pred\n",
    "- use the most_frequent method for a majority voting and print the result"
   ]
  },
  {
   "cell_type": "code",
   "execution_count": 67,
   "metadata": {},
   "outputs": [
    {
     "name": "stdout",
     "output_type": "stream",
     "text": [
      "[1.423e+01 1.710e+00 2.430e+00 1.560e+01 1.270e+02 2.800e+00 3.060e+00\n",
      " 2.800e-01 2.290e+00 5.640e+00 1.040e+00 3.920e+00 1.065e+03]\n",
      "0\n",
      "(178, 13)\n",
      "(178,)\n",
      "[[1.35e+01 3.12e+00 2.62e+00 2.40e+01 1.23e+02 1.40e+00 1.57e+00 2.20e-01\n",
      "  1.25e+00 8.60e+00 5.90e-01 1.30e+00 5.00e+02]]\n",
      "1\n",
      "1\n",
      "2\n",
      "class_1\n"
     ]
    }
   ],
   "source": [
    "from sklearn import neighbors, datasets\n",
    "from sklearn import svm\n",
    "from sklearn import tree\n",
    "\n",
    "\n",
    "#function which returns most frequent value of a list\n",
    "def most_frequent(List): \n",
    "    return max(set(List), key = List.count) \n",
    "\n",
    "#load the wine dataset (you can load it similarly to the iris dataset)\n",
    "wine = datasets.load_wine()\n",
    "x, y = wine.data, wine.target\n",
    "#print the first example of the dataset (features and class)\n",
    "print(x[0])\n",
    "print(y[0])\n",
    "#print the shape of your dataset (features and class) using shape method\n",
    "print(x.shape)\n",
    "print(y.shape)\n",
    "\n",
    "#use 151st example for testing and re-shape to 2-dim array for the predict method later\n",
    "x_test= x[150].reshape(1,-1)\n",
    "\n",
    "print(x_test)\n",
    "\n",
    "#initialize a list for your prediction values y_pred\n",
    "y_pred = []\n",
    "\n",
    "#initialize and fit a knn, svm and decision tree classifier using the first 150 examples\n",
    "knn = neighbors.KNeighborsClassifier(n_neighbors=1)\n",
    "supvm = svm.SVC(kernel='rbf')\n",
    "dt = tree.DecisionTreeClassifier(random_state=0)\n",
    "\n",
    "knn.fit(x[0:150], y[0:150])\n",
    "supvm.fit(x, y)\n",
    "dt.fit(x,y)\n",
    "\n",
    "#append y_pred with prediction values of each classifier for x_test\n",
    "y_pred.append(knn.predict(x_test)[0])\n",
    "y_pred.append(supvm.predict(x_test)[0])\n",
    "y_pred.append(dt.predict(x_test)[0])\n",
    "#loop and print y_pred\n",
    "\n",
    "for i in range(0,3):\n",
    "    print(y_pred[i])\n",
    "\n",
    "\n",
    "\n",
    "\n",
    "#use the most_frequent method for a majority voting and print the result\n",
    "mostused = most_frequent(y_pred)\n",
    "\n",
    "print(wine.target_names[mostused])\n",
    "\n"
   ]
  },
  {
   "cell_type": "markdown",
   "metadata": {},
   "source": [
    "# Linear Regression \n",
    "Create a linear regression model based on the BOSTON dataset! Implement the following steps:\n",
    "- load the wine dataset (you can load it similarly to the iris dataset)\n",
    "- print the first example of the dataset (features and class)\n",
    "- print the shape of your dataset (features and class) using shape method\n",
    "- initialize and fit a linear regression model object using the first 200 examples\n",
    "- print regression coefficients using the according attribute of the regression object\n",
    "- predict the values for the 201st to 210th example and print the prediction results"
   ]
  },
  {
   "cell_type": "code",
   "execution_count": 48,
   "metadata": {},
   "outputs": [
    {
     "name": "stdout",
     "output_type": "stream",
     "text": [
      "First example:  [6.320e-03 1.800e+01 2.310e+00 0.000e+00 5.380e-01 6.575e+00 6.520e+01\n",
      " 4.090e+00 1.000e+00 2.960e+02 1.530e+01 3.969e+02 4.980e+00] 24.0\n",
      "Shape:  (506, 13) (506,)\n",
      "Regression coefficients:  [ 1.21702620e+00  2.28358110e-02  4.05630994e-03  1.55045296e-02\n",
      " -7.33657559e+00  9.01161321e+00 -3.88193998e-02 -1.13348841e+00\n",
      "  4.60084845e-01 -1.76861359e-02 -6.84160019e-01  1.86722634e-02\n",
      " -1.86732207e-01]\n",
      "Example  200 , Actual y value:  32.9 Predicted y value 31.73160205595883\n",
      "Example  201 , Actual y value:  24.1 Predicted y value 24.918266683016967\n",
      "Example  202 , Actual y value:  42.3 Predicted y value 39.66959657081081\n",
      "Example  203 , Actual y value:  48.5 Predicted y value 45.716084803732855\n",
      "Example  204 , Actual y value:  50.0 Predicted y value 47.5114062560224\n",
      "Example  205 , Actual y value:  22.6 Predicted y value 22.39172682637333\n",
      "Example  206 , Actual y value:  24.4 Predicted y value 24.732203314000195\n",
      "Example  207 , Actual y value:  22.5 Predicted y value 17.65637669205047\n",
      "Example  208 , Actual y value:  24.4 Predicted y value 21.205369343790878\n",
      "Example  209 , Actual y value:  20.0 Predicted y value 12.623785357141411\n"
     ]
    }
   ],
   "source": [
    "#linear regression module\n",
    "from sklearn import linear_model\n",
    "\n",
    "#load the wine dataset (you can load it similarly to the iris dataset)\n",
    "\n",
    "#print the first example of the dataset (features and class)\n",
    "\n",
    "#print the shape of your dataset (features and class) using shape method\n",
    "\n",
    "#initialize and fit a linear regression model object using the first 200 examples\n",
    "\n",
    "#print regression coefficients using the according attribute of the regression object\n",
    "\n",
    "#predict the values for the 201st to 210th example and print the prediction results\n"
   ]
  }
 ],
 "metadata": {
  "kernelspec": {
   "display_name": "Python 3",
   "language": "python",
   "name": "python3"
  },
  "language_info": {
   "codemirror_mode": {
    "name": "ipython",
    "version": 3
   },
   "file_extension": ".py",
   "mimetype": "text/x-python",
   "name": "python",
   "nbconvert_exporter": "python",
   "pygments_lexer": "ipython3",
   "version": "3.8.3"
  }
 },
 "nbformat": 4,
 "nbformat_minor": 2
}
