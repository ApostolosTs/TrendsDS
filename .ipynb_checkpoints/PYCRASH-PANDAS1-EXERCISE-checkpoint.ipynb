{
 "cells": [
  {
   "cell_type": "markdown",
   "metadata": {},
   "source": [
    "Student DB: Create a PANDAS dataframe for a university database holding student information\n",
    "\n",
    "The database should contain the student's ID, name, field of study and number of semesters\n",
    "\n",
    "Print your data frame"
   ]
  },
  {
   "cell_type": "code",
   "execution_count": 7,
   "metadata": {
    "scrolled": true
   },
   "outputs": [
    {
     "name": "stdout",
     "output_type": "stream",
     "text": [
      "     ID   Name Fach  Smester\n",
      "ID1   1    Apo   Wi        3\n",
      "ID2   2   Diri  OMM        2\n",
      "ID3   3  Erhan   bi        3\n",
      "<class 'pandas.core.frame.DataFrame'>\n"
     ]
    }
   ],
   "source": [
    "#PANDAS Data Frames\n",
    "import pandas as pd\n",
    "\n",
    "\n",
    "\n",
    "\n",
    "list_2dim = [[1,\"Apo\",\"Wi\",3],[2,\"Diri\",\"OMM\",2],[3,\"Erhan\",\"bi\",3]]\n",
    "\n",
    "df = pd.DataFrame(list_2dim,index=['ID1','ID2','ID3'],columns=['ID','Name','Studiengang','Smester'])\n",
    "\n",
    "print(df)\n",
    "print(type(df))\n",
    "\n"
   ]
  },
  {
   "cell_type": "markdown",
   "metadata": {},
   "source": [
    "Perform the following operations on your data frame and check the result:\n",
    "- Select columns \"ID\" and \"Name\"\n",
    "- Create a new column adding one semester to the existing number of semesters\n",
    "- Permanently drop the new column again"
   ]
  },
  {
   "cell_type": "code",
   "execution_count": 20,
   "metadata": {
    "scrolled": true
   },
   "outputs": [
    {
     "name": "stdout",
     "output_type": "stream",
     "text": [
      "     ID   Name Fach  Smester  Smester+1\n",
      "ID1   1    Apo   Wi        3          4\n",
      "ID2   2   Diri  OMM        2          3\n",
      "ID3   3  Erhan   bi        3          4\n",
      "     ID   Name Fach  Smester\n",
      "ID1   1    Apo   Wi        3\n",
      "ID2   2   Diri  OMM        2\n",
      "ID3   3  Erhan   bi        3\n"
     ]
    }
   ],
   "source": [
    "df[['ID','Name']]\n",
    "\n",
    "\n",
    "\n",
    "df['Smester+1']=df['Smester']+1\n",
    "print(df)\n",
    "\n",
    "\n",
    "df.drop('Smester+1',axis=1,inplace=True)\n",
    "print(df)\n"
   ]
  },
  {
   "cell_type": "markdown",
   "metadata": {},
   "source": [
    "Perform the following operations on your data frame and check the result:\n",
    "- Select all columns for one specific student\n",
    "- Show the name of all students in a specific semester (without directly selecting one row)"
   ]
  },
  {
   "cell_type": "code",
   "execution_count": 27,
   "metadata": {},
   "outputs": [
    {
     "data": {
      "text/html": [
       "<div>\n",
       "<style scoped>\n",
       "    .dataframe tbody tr th:only-of-type {\n",
       "        vertical-align: middle;\n",
       "    }\n",
       "\n",
       "    .dataframe tbody tr th {\n",
       "        vertical-align: top;\n",
       "    }\n",
       "\n",
       "    .dataframe thead th {\n",
       "        text-align: right;\n",
       "    }\n",
       "</style>\n",
       "<table border=\"1\" class=\"dataframe\">\n",
       "  <thead>\n",
       "    <tr style=\"text-align: right;\">\n",
       "      <th></th>\n",
       "      <th>ID</th>\n",
       "      <th>Name</th>\n",
       "      <th>Fach</th>\n",
       "      <th>Smester</th>\n",
       "    </tr>\n",
       "  </thead>\n",
       "  <tbody>\n",
       "    <tr>\n",
       "      <th>ID2</th>\n",
       "      <td>2</td>\n",
       "      <td>Diri</td>\n",
       "      <td>OMM</td>\n",
       "      <td>2</td>\n",
       "    </tr>\n",
       "    <tr>\n",
       "      <th>ID3</th>\n",
       "      <td>3</td>\n",
       "      <td>Erhan</td>\n",
       "      <td>bi</td>\n",
       "      <td>3</td>\n",
       "    </tr>\n",
       "  </tbody>\n",
       "</table>\n",
       "</div>"
      ],
      "text/plain": [
       "     ID   Name Fach  Smester\n",
       "ID2   2   Diri  OMM        2\n",
       "ID3   3  Erhan   bi        3"
      ]
     },
     "execution_count": 27,
     "metadata": {},
     "output_type": "execute_result"
    }
   ],
   "source": [
    "df.loc[['ID2','ID3']]"
   ]
  },
  {
   "cell_type": "code",
   "execution_count": 28,
   "metadata": {},
   "outputs": [
    {
     "data": {
      "text/plain": [
       "ID1      Apo\n",
       "ID3    Erhan\n",
       "Name: Name, dtype: object"
      ]
     },
     "execution_count": 28,
     "metadata": {},
     "output_type": "execute_result"
    }
   ],
   "source": [
    "#conditional selection\n",
    "df[df['Smester']>2]['Name']"
   ]
  },
  {
   "cell_type": "code",
   "execution_count": null,
   "metadata": {},
   "outputs": [],
   "source": []
  }
 ],
 "metadata": {
  "kernelspec": {
   "display_name": "Python 3",
   "language": "python",
   "name": "python3"
  },
  "language_info": {
   "codemirror_mode": {
    "name": "ipython",
    "version": 3
   },
   "file_extension": ".py",
   "mimetype": "text/x-python",
   "name": "python",
   "nbconvert_exporter": "python",
   "pygments_lexer": "ipython3",
   "version": "3.8.3"
  }
 },
 "nbformat": 4,
 "nbformat_minor": 2
}
