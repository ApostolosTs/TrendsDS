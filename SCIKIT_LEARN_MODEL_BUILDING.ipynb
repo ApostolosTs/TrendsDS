{
 "cells": [
  {
   "cell_type": "markdown",
   "metadata": {},
   "source": [
    "# Classification objects and their scikit-learn methods\n",
    "\n",
    "# SVM:\n",
    "\n",
    "decision_function(self, X)\t\tEvaluates the decision function for the samples in X.\n",
    "\n",
    "fit(self, X, y[, sample_weight])\tFit the SVM model according to the given training data.\n",
    "\n",
    "get_params(self[, deep])\t\tGet parameters for this estimator.\n",
    "\n",
    "predict(self, X)\t\t\tPerform classification on samples in X.\n",
    "\n",
    "score(self, X, y[, sample_weight])\tReturn the mean accuracy on the given test data and labels.\n",
    "\n",
    "set_params(self, \\*\\*params)\t\tSet the parameters of this estimator.\n",
    "\n",
    "# KNN:\n",
    "fit(self, X[, y])\t\t\tFit the model using X as training data\n",
    "\n",
    "get_params(self[, deep])\t\tGet parameters for this estimator.\n",
    "\n",
    "kneighbors(self[, X, n_neighbors, …])\tFinds the K-neighbors of a point.\n",
    "\n",
    "set_params(self, \\*\\*params)\t\tSet the parameters of this estimator.\n",
    "\n",
    "...\n",
    "# Decision Trees:\n",
    "fit(self, X, y[, sample_weight, …])\tBuild a decision tree classifier from the training set (X, y).\n",
    "\n",
    "get_depth(self)\t\t\t\tReturn the depth of the decision tree.\n",
    "\n",
    "get_params(self[, deep])\t\tGet parameters for this estimator.\n",
    "\n",
    "predict(self, X[, check_input])Predict class or regression value for X.\n",
    "\t\n",
    "\n",
    "score(self, X, y[, sample_weight])\tReturn the mean accuracy on the given test data and labels.\n",
    "\n",
    "set_params(self, \\*\\*params)\t\tSet the parameters of this estimator.\n",
    "\n",
    "...."
   ]
  },
  {
   "cell_type": "code",
   "execution_count": 1,
   "metadata": {},
   "outputs": [
    {
     "name": "stdout",
     "output_type": "stream",
     "text": [
      "Welche Art von Schwertlilie (Iris Setosa, Iris Virginica oder Iris Versicolor)\n",
      "hat ein 3cm x 5cm Sepalum (Kelchblatt) und ein 4cm x 2cm Petalum (Kronblatt)\n",
      "Antwort:  ['virginica']\n"
     ]
    }
   ],
   "source": [
    "from sklearn import neighbors, datasets\n",
    "iris = datasets.load_iris()\n",
    "x, y = iris.data, iris.target\n",
    "knn = neighbors.KNeighborsClassifier(n_neighbors=1)\n",
    "\n",
    "knn.fit(x, y)\n",
    "\n",
    "print(\"Welche Art von Schwertlilie (Iris Setosa, Iris Virginica oder Iris Versicolor)\")\n",
    "print(\"hat ein 3cm x 5cm Sepalum (Kelchblatt) und ein 4cm x 2cm Petalum (Kronblatt)\")\n",
    "print(\"Antwort: \",iris.target_names[knn.predict([[3, 5, 4, 2]])])"
   ]
  },
  {
   "cell_type": "code",
   "execution_count": 2,
   "metadata": {},
   "outputs": [
    {
     "name": "stdout",
     "output_type": "stream",
     "text": [
      "Welche Art von Schwertlilie (Iris Setosa, Iris Virginica oder Iris Versicolor)\n",
      "hat ein 3cm x 5cm Sepalum (Kelchblatt) und ein 4cm x 2cm Petalum (Kronblatt)\n",
      "Antwort:  ['versicolor']\n"
     ]
    }
   ],
   "source": [
    "from sklearn import svm\n",
    "\n",
    "#rbf = radial basis function\n",
    "supvm = svm.SVC(kernel='rbf')\n",
    "supvm.fit(x, y)\n",
    "\n",
    "print(\"Welche Art von Schwertlilie (Iris Setosa, Iris Virginica oder Iris Versicolor)\")\n",
    "print(\"hat ein 3cm x 5cm Sepalum (Kelchblatt) und ein 4cm x 2cm Petalum (Kronblatt)\")\n",
    "print(\"Antwort: \",iris.target_names[supvm.predict([[3, 5, 4, 2]])])"
   ]
  },
  {
   "cell_type": "code",
   "execution_count": 3,
   "metadata": {},
   "outputs": [
    {
     "name": "stdout",
     "output_type": "stream",
     "text": [
      "Welche Art von Schwertlilie (Iris Setosa, Iris Virginica oder Iris Versicolor)\n",
      "hat ein 3cm x 5cm Sepalum (Kelchblatt) und ein 4cm x 2cm Petalum (Kronblatt)\n",
      "Antwort:  ['versicolor']\n"
     ]
    }
   ],
   "source": [
    "from sklearn import tree\n",
    "\n",
    "dt = tree.DecisionTreeClassifier(random_state=0)\n",
    "dt.fit(x, y)\n",
    "\n",
    "print(\"Welche Art von Schwertlilie (Iris Setosa, Iris Virginica oder Iris Versicolor)\")\n",
    "print(\"hat ein 3cm x 5cm Sepalum (Kelchblatt) und ein 4cm x 2cm Petalum (Kronblatt)\")\n",
    "print(\"Antwort: \",iris.target_names[dt.predict([[3, 5, 4, 2]])])"
   ]
  },
  {
   "cell_type": "markdown",
   "metadata": {},
   "source": [
    "# Clustering objects and their scikit-learn method\n",
    "# K Means scikit-learn-methods\n",
    "fit(self, X[, y, sample_weight])\tCompute k-means clustering.\n",
    "\n",
    "get_params(self[, deep])\t\tGet parameters for this estimator.\n",
    "\n",
    "predict(self, X[, sample_weight])\tPredict the closest cluster each sample in X belongs to.\n",
    "\n",
    "score(self, X[, y, sample_weight])\tOpposite of the value of X on the K-means objective.\n",
    "\n",
    "set_params(self, \\*\\*params)\t\tSet the parameters of this estimator.\n",
    "\n",
    "transform(self, X)\t\t\tTransform X to a cluster-distance space."
   ]
  },
  {
   "cell_type": "code",
   "execution_count": 4,
   "metadata": {},
   "outputs": [
    {
     "name": "stdout",
     "output_type": "stream",
     "text": [
      "Cluster labels:  [1 1 1 0 0 2]\n",
      "Cluster centers: \n",
      " [[10.  3.]\n",
      " [ 1.  2.]\n",
      " [10.  0.]]\n"
     ]
    }
   ],
   "source": [
    "#Example taken from \n",
    "#https://scikit-learn.org/stable/modules/generated/sklearn.cluster.KMeans.html#sklearn.cluster.KMeans\n",
    "from sklearn.cluster import KMeans\n",
    "import numpy as np\n",
    "x = np.array([[1, 2], [1, 4], [1, 0],[10, 2], [10, 4], [10, 0]])\n",
    "kmeans = KMeans(n_clusters=3, random_state=0).fit(x)\n",
    "print(\"Cluster labels: \",kmeans.labels_)\n",
    "#kmeans.predict([[0, 0], [12, 3]])\n",
    "print(\"Cluster centers: \\n\",kmeans.cluster_centers_)"
   ]
  },
  {
   "cell_type": "code",
   "execution_count": 5,
   "metadata": {},
   "outputs": [
    {
     "name": "stdout",
     "output_type": "stream",
     "text": [
      "Cluster labels:  [0 0 0 1 1 1]\n"
     ]
    }
   ],
   "source": [
    "from sklearn.cluster import DBSCAN\n",
    "\n",
    "clustering = DBSCAN(eps=3, min_samples=2).fit(x)\n",
    "print(\"Cluster labels: \",clustering.labels_)"
   ]
  },
  {
   "cell_type": "code",
   "execution_count": null,
   "metadata": {},
   "outputs": [],
   "source": [
    "from sklearn.cluster import AgglomerativeClustering\n",
    "    \n",
    "clustering = AgglomerativeClustering().fit(x)\n",
    "print(\"Cluster labels: \",clustering.labels_)"
   ]
  },
  {
   "cell_type": "markdown",
   "metadata": {},
   "source": [
    "# Linear Regression scikit-learn-methods\n",
    "fit(self, X, y[, sample_weight])\tFit linear model.\n",
    "\n",
    "get_params(self[, deep])\t\tGet parameters for this estimator.\n",
    "\n",
    "predict(self, X)\t\t\tPredict using the linear model.\n",
    "\n",
    "score(self, X, y[, sample_weight])\tReturn the coefficient of determination R^2 of the prediction.\n",
    "\n",
    "set_params(self, \\*\\*params)\t\tSet the parameters of this estimator."
   ]
  },
  {
   "cell_type": "code",
   "execution_count": null,
   "metadata": {},
   "outputs": [],
   "source": [
    "#Linear Regression\n",
    "from sklearn import linear_model\n",
    "reg = linear_model.LinearRegression()\n",
    "\n",
    "training_data=[[0, 0.1], [1.2, 1], [2.3, 2]]\n",
    "training_labels=[0, 1, 2]\n",
    "reg.fit(training_data,training_labels)\n",
    "print(\"Regression coefficients: \",reg.coef_)\n",
    "\n",
    "#Predict using the linear model.\n",
    "print(\"Predict Regression value for [4, 3]: \",reg.predict([[4, 3]]))\n",
    "\n",
    "test_data=[[8, 8.1], [9.2, 9], [-2.3, -2]]\n",
    "test_labels=[8, 9, -2]\n",
    "#Return the coefficient of determination R^2 of the prediction.\n",
    "print(\"R^2 value of the model: \",reg.score(test_data,test_labels))"
   ]
  },
  {
   "cell_type": "code",
   "execution_count": null,
   "metadata": {},
   "outputs": [],
   "source": [
    "#Logistic Regression\n",
    "#Example taken from \n",
    "#https://scikit-learn.org/stable/modules/generated/sklearn.linear_model.LogisticRegression.html#sklearn.linear_model.LogisticRegression\n",
    "\n",
    "from sklearn.datasets import load_iris\n",
    "from sklearn.linear_model import LogisticRegression\n",
    "x, y = load_iris(return_X_y=True)\n",
    "clf = LogisticRegression(random_state=0).fit(x, y)\n",
    "\n",
    "print(x[:2, :])\n",
    "\n",
    "print(\"Predict class of first three data objects: \",clf.predict(x[:3, :]))\n",
    "print(\"Class probabilities (first three data objects): \",clf.predict_proba(x[:3, :]))\n",
    "print(\"Mean (training/testing) accuracy: \",clf.score(x, y))"
   ]
  }
 ],
 "metadata": {
  "kernelspec": {
   "display_name": "Python 3",
   "language": "python",
   "name": "python3"
  },
  "language_info": {
   "codemirror_mode": {
    "name": "ipython",
    "version": 3
   },
   "file_extension": ".py",
   "mimetype": "text/x-python",
   "name": "python",
   "nbconvert_exporter": "python",
   "pygments_lexer": "ipython3",
   "version": "3.8.3"
  }
 },
 "nbformat": 4,
 "nbformat_minor": 2
}
